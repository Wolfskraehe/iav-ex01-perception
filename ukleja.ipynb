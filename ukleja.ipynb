{
  "cells": [
    {
      "cell_type": "code",
      "execution_count": 1,
      "metadata": {
        "colab": {
          "base_uri": "https://localhost:8080/"
        },
        "id": "4QlJA4rlQN7s",
        "outputId": "3e84600e-b49b-4381-91c5-461441cc87d3"
      },
      "outputs": [
        {
          "output_type": "stream",
          "name": "stderr",
          "text": [
            "YOLOv5 🚀 v7.0-120-g3e55763 Python-3.9.16 torch-1.13.1+cu116 CUDA:0 (Tesla T4, 15102MiB)\n"
          ]
        },
        {
          "output_type": "stream",
          "name": "stdout",
          "text": [
            "Setup complete ✅ (2 CPUs, 12.7 GB RAM, 25.4/78.2 GB disk)\n"
          ]
        }
      ],
      "source": [
        "import os.path\n",
        "import torch\n",
        "\n",
        "\n",
        "try:\n",
        "    from google.colab import drive\n",
        "    drive.mount('/content/gdrive')\n",
        "    _home = 'gdrive/MyDrive/'\n",
        "except ImportError:\n",
        "    _home = '~'\n",
        "finally:\n",
        "    data_root = os.path.join(_home, '.pytorch')\n",
        "\n",
        "print(data_root)\n",
        "\n",
        "\n",
        "#getting yolo model from ultralytics and installing all dependecies\n",
        "!git clone https://github.com/ultralytics/yolov5  # clone\n",
        "%cd yolov5\n",
        "%pip install -qr requirements.txt  # install\n",
        "import utils\n",
        "display = utils.notebook_init()"
      ]
    },
    {
      "cell_type": "code",
      "execution_count": null,
      "metadata": {
        "id": "8xhubmbBQN7t"
      },
      "outputs": [],
      "source": [
        "#prearing TensorBoard logging, can be switched to CML and Comet\n",
        "logger = 'TensorBoard' #@param ['ClearML', 'Comet', 'TensorBoard']\n",
        "\n",
        "if logger == 'ClearML':\n",
        "  %pip install -q clearml\n",
        "  import clearml; clearml.browser_login()\n",
        "elif logger == 'Comet':\n",
        "  %pip install -q comet_ml\n",
        "  import comet_ml; comet_ml.init()\n",
        "elif logger == 'TensorBoard':\n",
        "  %load_ext tensorboard\n",
        "  %tensorboard --logdir runs/train"
      ]
    },
    {
      "cell_type": "code",
      "source": [
        "# Download COCO val\n",
        "torch.hub.download_url_to_file('https://ultralytics.com/assets/coco2017val.zip', 'tmp.zip')  # download (780M - 5000 images)\n",
        "!unzip -q tmp.zip -d ../datasets && rm tmp.zip  # unzip"
      ],
      "metadata": {
        "id": "byVlHAmEdPRQ"
      },
      "execution_count": null,
      "outputs": []
    },
    {
      "cell_type": "code",
      "source": [
        "#Evaluate before training\n",
        "!python val.py --weights yolov5s.pt --data coco.yaml --img 640 "
      ],
      "metadata": {
        "id": "xzRlkcowdS1A"
      },
      "execution_count": null,
      "outputs": []
    },
    {
      "cell_type": "code",
      "execution_count": null,
      "metadata": {
        "id": "Hs7lH072QN7t"
      },
      "outputs": [],
      "source": [
        "'''#calling yolo training script from /yolov5 directory, downloads coco128 set, with small yv5 network, caches weights and paramters to\n",
        "disk and ram for faster performance'''\n",
        "!python train.py --img 640 --batch 16 --epochs 10 --data coco128.yaml --weights yolov5s.pt "
      ]
    },
    {
      "cell_type": "code",
      "source": [
        "#evaluate after training, using best weights from training, change current \"expX\" folder to your current training run folder\n",
        "!python val.py --weights runs/train/exp1/weights/best.pt --data coco.yaml --img 640 "
      ],
      "metadata": {
        "id": "rIGwOh91heia"
      },
      "execution_count": null,
      "outputs": []
    }
  ],
  "metadata": {
    "language_info": {
      "name": "python"
    },
    "orig_nbformat": 4,
    "colab": {
      "provenance": []
    },
    "kernelspec": {
      "name": "python3",
      "display_name": "Python 3"
    },
    "gpuClass": "standard",
    "accelerator": "GPU"
  },
  "nbformat": 4,
  "nbformat_minor": 0
}